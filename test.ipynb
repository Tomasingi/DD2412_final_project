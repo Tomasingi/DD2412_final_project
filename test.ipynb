{
 "cells": [
  {
   "cell_type": "code",
   "execution_count": 1,
   "metadata": {},
   "outputs": [],
   "source": [
    "import torch\n",
    "import torch.nn as nn\n",
    "\n",
    "from utils import HParams, get_data, show_example\n",
    "from train import train_cycle\n",
    "from test import test_cycle\n",
    "import baseline_models\n",
    "import packed_models"
   ]
  },
  {
   "cell_type": "code",
   "execution_count": 2,
   "metadata": {},
   "outputs": [
    {
     "name": "stdout",
     "output_type": "stream",
     "text": [
      "Files already downloaded and verified\n",
      "Files already downloaded and verified\n"
     ]
    }
   ],
   "source": [
    "hparams = HParams()\n",
    "train_loader, val_loader = get_data(batch_size=hparams.batch_size, data_transforms=hparams.data_transforms)"
   ]
  },
  {
   "cell_type": "code",
   "execution_count": 7,
   "metadata": {},
   "outputs": [
    {
     "data": {
      "image/png": "[encoded data removed]",
      "text/plain": [
       "<Figure size 640x480 with 1 Axes>"
      ]
     },
     "metadata": {},
     "output_type": "display_data"
    }
   ],
   "source": [
    "show_example(train_loader, 0)"
   ]
  },
  {
   "cell_type": "code",
   "execution_count": 7,
   "metadata": {},
   "outputs": [],
   "source": [
    "# limit = 1024\n",
    "\n",
    "# train_loader.dataset.data = train_loader.dataset.data[:limit]\n",
    "# train_loader.dataset.targets = train_loader.dataset.targets[:limit]"
   ]
  },
  {
   "cell_type": "code",
   "execution_count": 10,
   "metadata": {},
   "outputs": [
    {
     "name": "stderr",
     "output_type": "stream",
     "text": [
      "Using cache found in /home/tomas/.cache/torch/hub/pytorch_vision_v0.10.0\n",
      "/home/tomas/.virtualenvs/snek/lib/python3.10/site-packages/torchvision/models/_utils.py:208: UserWarning: The parameter 'pretrained' is deprecated since 0.13 and may be removed in the future, please use 'weights' instead.\n",
      "  warnings.warn(\n",
      "/home/tomas/.virtualenvs/snek/lib/python3.10/site-packages/torchvision/models/_utils.py:223: UserWarning: Arguments other than a weight enum or `None` for 'weights' are deprecated since 0.13 and may be removed in the future. The current behavior is equivalent to passing `weights=None`.\n",
      "  warnings.warn(msg)\n"
     ]
    }
   ],
   "source": [
    "baseline_model = torch.hub.load('pytorch/vision:v0.10.0', 'resnet18', pretrained=False)\n",
    "baseline_model.fc = nn.Linear(512, 10)\n",
    "\n",
    "packed_model = packed_models.PackedResNet18(alpha=2, gamma=2, n_estimators=4)\n",
    "baseline_model_scratch = baseline_models.ResNet18()"
   ]
  },
  {
   "cell_type": "code",
   "execution_count": 11,
   "metadata": {},
   "outputs": [],
   "source": [
    "# train_cycle(packed_model)"
   ]
  },
  {
   "cell_type": "code",
   "execution_count": 12,
   "metadata": {},
   "outputs": [
    {
     "name": "stdout",
     "output_type": "stream",
     "text": [
      "Epoch: 1/75 | Loss: 1.7363 | Accuracy: 45.72%\n",
      "Epoch: 2/75 | Loss: 1.0059 | Accuracy: 56.37%\n",
      "Epoch: 3/75 | Loss: 0.9875 | Accuracy: 59.19%\n",
      "Epoch: 4/75 | Loss: 0.6680 | Accuracy: 67.76%\n",
      "Epoch: 5/75 | Loss: 1.1749 | Accuracy: 62.23%\n",
      "Epoch: 6/75 | Loss: 0.8852 | Accuracy: 67.82%\n",
      "Epoch: 7/75 | Loss: 0.6562 | Accuracy: 60.22%\n",
      "Epoch: 8/75 | Loss: 0.6187 | Accuracy: 66.09%\n",
      "Epoch: 9/75 | Loss: 0.6342 | Accuracy: 72.54%\n",
      "Epoch: 10/75 | Loss: 0.7090 | Accuracy: 71.92%\n",
      "Epoch: 11/75 | Loss: 0.6346 | Accuracy: 72.37%\n",
      "Epoch: 12/75 | Loss: 0.6014 | Accuracy: 69.57%\n",
      "Epoch: 13/75 | Loss: 0.2794 | Accuracy: 71.96%\n",
      "Epoch: 14/75 | Loss: 0.4970 | Accuracy: 64.48%\n",
      "Epoch: 15/75 | Loss: 0.3188 | Accuracy: 72.84%\n",
      "Epoch: 16/75 | Loss: 0.4637 | Accuracy: 74.45%\n",
      "Epoch: 17/75 | Loss: 0.5043 | Accuracy: 70.31%\n",
      "Epoch: 18/75 | Loss: 0.5392 | Accuracy: 69.86%\n",
      "Epoch: 19/75 | Loss: 0.4418 | Accuracy: 75.54%\n",
      "Epoch: 20/75 | Loss: 0.4792 | Accuracy: 71.00%\n",
      "Epoch: 21/75 | Loss: 0.5223 | Accuracy: 71.83%\n",
      "Epoch: 22/75 | Loss: 0.4259 | Accuracy: 72.68%\n",
      "Epoch: 23/75 | Loss: 0.3737 | Accuracy: 75.12%\n",
      "Epoch: 24/75 | Loss: 0.3536 | Accuracy: 76.19%\n",
      "Epoch: 25/75 | Loss: 0.3185 | Accuracy: 76.32%\n",
      "Epoch: 26/75 | Loss: 0.2280 | Accuracy: 81.65%\n",
      "Epoch: 27/75 | Loss: 0.1627 | Accuracy: 81.76%\n",
      "Epoch: 28/75 | Loss: 0.0551 | Accuracy: 81.80%\n",
      "Epoch: 29/75 | Loss: 0.1356 | Accuracy: 81.84%\n",
      "Epoch: 30/75 | Loss: 0.0358 | Accuracy: 81.73%\n",
      "Epoch: 31/75 | Loss: 0.0621 | Accuracy: 81.71%\n",
      "Epoch: 32/75 | Loss: 0.0267 | Accuracy: 81.73%\n",
      "Epoch: 33/75 | Loss: 0.0210 | Accuracy: 81.17%\n",
      "Epoch: 34/75 | Loss: 0.0352 | Accuracy: 81.97%\n",
      "Epoch: 35/75 | Loss: 0.0194 | Accuracy: 82.02%\n",
      "Epoch: 36/75 | Loss: 0.0050 | Accuracy: 81.68%\n",
      "Epoch: 37/75 | Loss: 0.0311 | Accuracy: 81.33%\n",
      "Epoch: 38/75 | Loss: 0.0118 | Accuracy: 81.43%\n",
      "Epoch: 39/75 | Loss: 0.0057 | Accuracy: 81.38%\n",
      "Epoch: 40/75 | Loss: 0.0030 | Accuracy: 81.42%\n",
      "Epoch: 41/75 | Loss: 0.0018 | Accuracy: 81.64%\n",
      "Epoch: 42/75 | Loss: 0.0123 | Accuracy: 81.78%\n",
      "Epoch: 43/75 | Loss: 0.0091 | Accuracy: 81.57%\n",
      "Epoch: 44/75 | Loss: 0.0059 | Accuracy: 81.73%\n",
      "Epoch: 45/75 | Loss: 0.0021 | Accuracy: 81.78%\n",
      "Epoch: 46/75 | Loss: 0.0058 | Accuracy: 81.36%\n",
      "Epoch: 47/75 | Loss: 0.0035 | Accuracy: 81.57%\n",
      "Epoch: 48/75 | Loss: 0.0018 | Accuracy: 81.57%\n",
      "Epoch: 49/75 | Loss: 0.0055 | Accuracy: 81.34%\n",
      "Epoch: 50/75 | Loss: 0.0185 | Accuracy: 81.44%\n",
      "Epoch: 51/75 | Loss: 0.0008 | Accuracy: 81.68%\n",
      "Epoch: 52/75 | Loss: 0.0028 | Accuracy: 81.64%\n",
      "Epoch: 53/75 | Loss: 0.0041 | Accuracy: 81.79%\n",
      "Epoch: 54/75 | Loss: 0.0017 | Accuracy: 81.89%\n",
      "Epoch: 55/75 | Loss: 0.0046 | Accuracy: 81.98%\n",
      "Epoch: 56/75 | Loss: 0.0018 | Accuracy: 81.85%\n",
      "Epoch: 57/75 | Loss: 0.0022 | Accuracy: 81.85%\n",
      "Epoch: 58/75 | Loss: 0.0028 | Accuracy: 81.77%\n",
      "Epoch: 59/75 | Loss: 0.0007 | Accuracy: 81.72%\n",
      "Epoch: 60/75 | Loss: 0.0028 | Accuracy: 81.82%\n",
      "Epoch: 61/75 | Loss: 0.0021 | Accuracy: 81.74%\n",
      "Epoch: 62/75 | Loss: 0.0008 | Accuracy: 81.99%\n",
      "Epoch: 63/75 | Loss: 0.0030 | Accuracy: 81.92%\n",
      "Epoch: 64/75 | Loss: 0.0018 | Accuracy: 81.89%\n",
      "Epoch: 65/75 | Loss: 0.0008 | Accuracy: 81.81%\n",
      "Epoch: 66/75 | Loss: 0.0005 | Accuracy: 82.03%\n",
      "Epoch: 67/75 | Loss: 0.0006 | Accuracy: 81.92%\n",
      "Epoch: 68/75 | Loss: 0.0011 | Accuracy: 81.80%\n",
      "Epoch: 69/75 | Loss: 0.0019 | Accuracy: 82.01%\n",
      "Epoch: 70/75 | Loss: 0.0010 | Accuracy: 81.90%\n",
      "Epoch: 71/75 | Loss: 0.0006 | Accuracy: 81.88%\n",
      "Epoch: 72/75 | Loss: 0.0017 | Accuracy: 81.75%\n",
      "Epoch: 73/75 | Loss: 0.0004 | Accuracy: 81.81%\n",
      "Epoch: 74/75 | Loss: 0.0022 | Accuracy: 81.77%\n",
      "Epoch: 75/75 | Loss: 0.0014 | Accuracy: 81.83%\n"
     ]
    }
   ],
   "source": [
    "train_cycle(baseline_model, hparams, train_loader, val_loader)"
   ]
  },
  {
   "cell_type": "code",
   "execution_count": 13,
   "metadata": {},
   "outputs": [
    {
     "name": "stdout",
     "output_type": "stream",
     "text": [
      "Baseline Model:\n",
      "\tAcc: 0.8183000087738037\n",
      "\tECE: 0.13695426285266876\n",
      "\tAUPR: 0.9750760793685913\n",
      "\tAUC: 0.9750760793685913\n"
     ]
    }
   ],
   "source": [
    "acc, ece, aupr, auc = test_cycle(baseline_model, val_loader)\n",
    "print(f'Baseline Model:')\n",
    "print(f'\\tAcc: {acc}')\n",
    "print(f'\\tECE: {ece}')\n",
    "print(f'\\tAUPR: {aupr}')\n",
    "print(f'\\tAUC: {auc}')\n",
    "# print(f'\\tFPR95: {fpr95}')"
   ]
  }
 ],
 "metadata": {
  "kernelspec": {
   "display_name": "snek",
   "language": "python",
   "name": "python3"
  },
  "language_info": {
   "codemirror_mode": {
    "name": "ipython",
    "version": 3
   },
   "file_extension": ".py",
   "mimetype": "text/x-python",
   "name": "python",
   "nbconvert_exporter": "python",
   "pygments_lexer": "ipython3",
   "version": "3.10.13"
  }
 },
 "nbformat": 4,
 "nbformat_minor": 2
}
