{
 "cells": [
  {
   "cell_type": "code",
   "execution_count": 11,
   "metadata": {},
   "outputs": [],
   "source": [
    "from utils import get_data\n",
    "import baseline_models\n",
    "import packed_models\n",
    "\n",
    "import numpy as np\n",
    "from matplotlib import pyplot as plt\n",
    "\n",
    "import torch\n",
    "import torch.nn as nn"
   ]
  },
  {
   "cell_type": "code",
   "execution_count": 12,
   "metadata": {},
   "outputs": [
    {
     "name": "stdout",
     "output_type": "stream",
     "text": [
      "Files already downloaded and verified\n",
      "Files already downloaded and verified\n"
     ]
    }
   ],
   "source": [
    "train_loader, val_loader = get_data(batch_size=32)"
   ]
  },
  {
   "cell_type": "code",
   "execution_count": 13,
   "metadata": {},
   "outputs": [],
   "source": [
    "def show_example(data_loader):\n",
    "    # Show one example image\n",
    "    idx = np.random.randint(0, len(data_loader.dataset))\n",
    "    img, label = data_loader.dataset[idx]\n",
    "    temp_img = np.transpose(img, (1, 2, 0))\n",
    "    plt.imshow(temp_img, cmap='gray')\n",
    "    plt.title(f'Label: {label}')\n",
    "    plt.show()"
   ]
  },
  {
   "cell_type": "code",
   "execution_count": 14,
   "metadata": {},
   "outputs": [
    {
     "data": {
      "image/png": "[encoded data removed]",
      "text/plain": [
       "<Figure size 640x480 with 1 Axes>"
      ]
     },
     "metadata": {},
     "output_type": "display_data"
    }
   ],
   "source": [
    "show_example(train_loader)"
   ]
  },
  {
   "cell_type": "code",
   "execution_count": 15,
   "metadata": {},
   "outputs": [],
   "source": [
    "limit = 1024\n",
    "\n",
    "train_loader.dataset.data = train_loader.dataset.data[:limit]\n",
    "train_loader.dataset.targets = train_loader.dataset.targets[:limit]"
   ]
  },
  {
   "cell_type": "code",
   "execution_count": 17,
   "metadata": {},
   "outputs": [],
   "source": [
    "def train_cycle(model):\n",
    "    criterion = nn.CrossEntropyLoss()\n",
    "    optimizer = torch.optim.Adam(model.parameters(), lr=0.001)\n",
    "\n",
    "    for epoch in range(10):\n",
    "        for i, (img, label) in enumerate(train_loader):\n",
    "            optimizer.zero_grad()\n",
    "            output = model(img)\n",
    "            loss = criterion(output, label)\n",
    "            loss.backward()\n",
    "            optimizer.step()\n",
    "\n",
    "            if i % 10 == 0:\n",
    "                print(f'Epoch: {epoch}, Step: {i}, Loss: {loss.item()}')\n",
    "\n",
    "        val_loss = 0\n",
    "        val_acc = 0\n",
    "        for i, (img, label) in enumerate(val_loader):\n",
    "            output = model(img)\n",
    "            loss = criterion(output, label)\n",
    "            val_loss += loss.item()\n",
    "            val_acc += (output.argmax(1) == label).sum().item()\n",
    "\n",
    "        print(f'Epoch: {epoch}, Val Loss: {val_loss / len(val_loader)}, Val Acc: {val_acc / len(val_loader.dataset)}')"
   ]
  },
  {
   "cell_type": "code",
   "execution_count": 18,
   "metadata": {},
   "outputs": [
    {
     "name": "stderr",
     "output_type": "stream",
     "text": [
      "Using cache found in /home/tomas/.cache/torch/hub/pytorch_vision_v0.10.0\n",
      "/home/tomas/.virtualenvs/snek/lib/python3.10/site-packages/torchvision/models/_utils.py:208: UserWarning: The parameter 'pretrained' is deprecated since 0.13 and may be removed in the future, please use 'weights' instead.\n",
      "  warnings.warn(\n",
      "/home/tomas/.virtualenvs/snek/lib/python3.10/site-packages/torchvision/models/_utils.py:223: UserWarning: Arguments other than a weight enum or `None` for 'weights' are deprecated since 0.13 and may be removed in the future. The current behavior is equivalent to passing `weights=None`.\n",
      "  warnings.warn(msg)\n"
     ]
    }
   ],
   "source": [
    "baseline_model = torch.hub.load('pytorch/vision:v0.10.0', 'resnet18', pretrained=False)\n",
    "baseline_model.fc = nn.Linear(512, 10)\n",
    "\n",
    "packed_model = packed_models.PackedResNet18(alpha=2, gamma=2, n_estimators=4)\n",
    "baseline_model_scratch = baseline_models.ResNet18()"
   ]
  },
  {
   "cell_type": "code",
   "execution_count": 8,
   "metadata": {},
   "outputs": [
    {
     "name": "stdout",
     "output_type": "stream",
     "text": [
      "Epoch: 0, Step: 0, Loss: 3.6571130752563477\n",
      "Epoch: 0, Step: 10, Loss: 2.02120304107666\n",
      "Epoch: 0, Step: 20, Loss: 2.1950595378875732\n",
      "Epoch: 0, Step: 30, Loss: 2.14241623878479\n",
      "Epoch: 0, Val Loss: 2.0267255249114844, Val Acc: 0.287\n",
      "Epoch: 1, Step: 0, Loss: 1.8916820287704468\n",
      "Epoch: 1, Step: 10, Loss: 1.6701878309249878\n",
      "Epoch: 1, Step: 20, Loss: 1.7857081890106201\n",
      "Epoch: 1, Step: 30, Loss: 1.7513874769210815\n",
      "Epoch: 1, Val Loss: 1.938359221330466, Val Acc: 0.3189\n",
      "Epoch: 2, Step: 0, Loss: 1.2239644527435303\n",
      "Epoch: 2, Step: 10, Loss: 1.2445398569107056\n",
      "Epoch: 2, Step: 20, Loss: 1.462225317955017\n",
      "Epoch: 2, Step: 30, Loss: 1.3788169622421265\n",
      "Epoch: 2, Val Loss: 1.9858497362167309, Val Acc: 0.3293\n",
      "Epoch: 3, Step: 0, Loss: 1.2991255521774292\n",
      "Epoch: 3, Step: 10, Loss: 1.1253775358200073\n",
      "Epoch: 3, Step: 20, Loss: 1.422570824623108\n",
      "Epoch: 3, Step: 30, Loss: 1.6139016151428223\n",
      "Epoch: 3, Val Loss: 2.0146959722994233, Val Acc: 0.3553\n",
      "Epoch: 4, Step: 0, Loss: 0.8912261128425598\n",
      "Epoch: 4, Step: 10, Loss: 0.8665719032287598\n",
      "Epoch: 4, Step: 20, Loss: 1.2997967004776\n",
      "Epoch: 4, Step: 30, Loss: 1.2187120914459229\n",
      "Epoch: 4, Val Loss: 2.190480306887398, Val Acc: 0.345\n",
      "Epoch: 5, Step: 0, Loss: 0.8999891877174377\n",
      "Epoch: 5, Step: 10, Loss: 0.7306761145591736\n",
      "Epoch: 5, Step: 20, Loss: 0.672663152217865\n",
      "Epoch: 5, Step: 30, Loss: 1.412272572517395\n",
      "Epoch: 5, Val Loss: 2.2439786961284307, Val Acc: 0.3449\n",
      "Epoch: 6, Step: 0, Loss: 0.9244620203971863\n",
      "Epoch: 6, Step: 10, Loss: 0.6169383525848389\n",
      "Epoch: 6, Step: 20, Loss: 0.6408453583717346\n",
      "Epoch: 6, Step: 30, Loss: 0.6786514520645142\n",
      "Epoch: 6, Val Loss: 2.350856222664586, Val Acc: 0.3505\n",
      "Epoch: 7, Step: 0, Loss: 0.3819226026535034\n",
      "Epoch: 7, Step: 10, Loss: 0.6816511750221252\n",
      "Epoch: 7, Step: 20, Loss: 0.7343657612800598\n",
      "Epoch: 7, Step: 30, Loss: 0.8945337533950806\n",
      "Epoch: 7, Val Loss: 2.610179067419741, Val Acc: 0.3629\n",
      "Epoch: 8, Step: 0, Loss: 0.26168784499168396\n",
      "Epoch: 8, Step: 10, Loss: 0.5538056492805481\n",
      "Epoch: 8, Step: 20, Loss: 0.4471246302127838\n",
      "Epoch: 8, Step: 30, Loss: 0.31218022108078003\n",
      "Epoch: 8, Val Loss: 2.666422024702493, Val Acc: 0.3506\n",
      "Epoch: 9, Step: 0, Loss: 0.23309342563152313\n",
      "Epoch: 9, Step: 10, Loss: 0.2699836790561676\n",
      "Epoch: 9, Step: 20, Loss: 0.1437925100326538\n",
      "Epoch: 9, Step: 30, Loss: 0.4298008680343628\n",
      "Epoch: 9, Val Loss: 2.9037615342642935, Val Acc: 0.3439\n"
     ]
    }
   ],
   "source": [
    "train_cycle(packed_model)"
   ]
  },
  {
   "cell_type": "code",
   "execution_count": 9,
   "metadata": {},
   "outputs": [
    {
     "name": "stdout",
     "output_type": "stream",
     "text": [
      "Epoch: 0, Step: 0, Loss: 2.634988784790039\n",
      "Epoch: 0, Step: 10, Loss: 2.4519782066345215\n",
      "Epoch: 0, Step: 20, Loss: 2.4165384769439697\n",
      "Epoch: 0, Step: 30, Loss: 1.9738125801086426\n",
      "Epoch: 0, Val Loss: 1.991682044233377, Val Acc: 0.2804\n",
      "Epoch: 1, Step: 0, Loss: 1.977285385131836\n",
      "Epoch: 1, Step: 10, Loss: 1.7999558448791504\n",
      "Epoch: 1, Step: 20, Loss: 1.7588633298873901\n",
      "Epoch: 1, Step: 30, Loss: 1.928396463394165\n",
      "Epoch: 1, Val Loss: 1.8548218347013188, Val Acc: 0.3249\n",
      "Epoch: 2, Step: 0, Loss: 1.6600362062454224\n",
      "Epoch: 2, Step: 10, Loss: 1.8478926420211792\n",
      "Epoch: 2, Step: 20, Loss: 1.3961046934127808\n",
      "Epoch: 2, Step: 30, Loss: 1.9040781259536743\n",
      "Epoch: 2, Val Loss: 1.914639487434119, Val Acc: 0.307\n",
      "Epoch: 3, Step: 0, Loss: 1.533910870552063\n",
      "Epoch: 3, Step: 10, Loss: 1.5428396463394165\n",
      "Epoch: 3, Step: 20, Loss: 1.2953523397445679\n",
      "Epoch: 3, Step: 30, Loss: 1.7236407995224\n",
      "Epoch: 3, Val Loss: 1.894187355193848, Val Acc: 0.3562\n",
      "Epoch: 4, Step: 0, Loss: 1.3304134607315063\n",
      "Epoch: 4, Step: 10, Loss: 1.111528754234314\n",
      "Epoch: 4, Step: 20, Loss: 1.493647575378418\n",
      "Epoch: 4, Step: 30, Loss: 1.519862413406372\n",
      "Epoch: 4, Val Loss: 1.7705206189292688, Val Acc: 0.3916\n",
      "Epoch: 5, Step: 0, Loss: 1.2281843423843384\n",
      "Epoch: 5, Step: 10, Loss: 1.2594105005264282\n",
      "Epoch: 5, Step: 20, Loss: 1.0950289964675903\n",
      "Epoch: 5, Step: 30, Loss: 1.0427629947662354\n",
      "Epoch: 5, Val Loss: 1.871828978054059, Val Acc: 0.3661\n",
      "Epoch: 6, Step: 0, Loss: 0.9740626811981201\n",
      "Epoch: 6, Step: 10, Loss: 1.065407633781433\n",
      "Epoch: 6, Step: 20, Loss: 1.247877836227417\n",
      "Epoch: 6, Step: 30, Loss: 1.0923118591308594\n",
      "Epoch: 6, Val Loss: 1.8744297861672057, Val Acc: 0.3675\n",
      "Epoch: 7, Step: 0, Loss: 0.9233287572860718\n",
      "Epoch: 7, Step: 10, Loss: 0.7613200545310974\n",
      "Epoch: 7, Step: 20, Loss: 0.8736827373504639\n",
      "Epoch: 7, Step: 30, Loss: 0.8005663156509399\n",
      "Epoch: 7, Val Loss: 2.267488507417063, Val Acc: 0.3904\n",
      "Epoch: 8, Step: 0, Loss: 0.9620566368103027\n",
      "Epoch: 8, Step: 10, Loss: 0.8378742337226868\n",
      "Epoch: 8, Step: 20, Loss: 0.9274621605873108\n",
      "Epoch: 8, Step: 30, Loss: 1.1364306211471558\n",
      "Epoch: 8, Val Loss: 2.082546567764526, Val Acc: 0.3876\n",
      "Epoch: 9, Step: 0, Loss: 0.4205639660358429\n",
      "Epoch: 9, Step: 10, Loss: 0.5666093826293945\n",
      "Epoch: 9, Step: 20, Loss: 0.7422950267791748\n",
      "Epoch: 9, Step: 30, Loss: 0.859813928604126\n",
      "Epoch: 9, Val Loss: 2.3714759646894072, Val Acc: 0.3794\n"
     ]
    }
   ],
   "source": [
    "train_cycle(model_test)"
   ]
  },
  {
   "cell_type": "code",
   "execution_count": 10,
   "metadata": {},
   "outputs": [
    {
     "name": "stdout",
     "output_type": "stream",
     "text": [
      "Epoch: 0, Step: 0, Loss: 2.4951224327087402\n",
      "Epoch: 0, Step: 10, Loss: 2.1428680419921875\n",
      "Epoch: 0, Step: 20, Loss: 2.2575156688690186\n",
      "Epoch: 0, Step: 30, Loss: 2.174901008605957\n",
      "Epoch: 0, Val Loss: 2.121137617114253, Val Acc: 0.2597\n",
      "Epoch: 1, Step: 0, Loss: 1.4694243669509888\n",
      "Epoch: 1, Step: 10, Loss: 1.5449670553207397\n",
      "Epoch: 1, Step: 20, Loss: 1.443644404411316\n",
      "Epoch: 1, Step: 30, Loss: 1.6418302059173584\n",
      "Epoch: 1, Val Loss: 1.868188618090206, Val Acc: 0.3391\n",
      "Epoch: 2, Step: 0, Loss: 1.2378078699111938\n",
      "Epoch: 2, Step: 10, Loss: 1.1071354150772095\n",
      "Epoch: 2, Step: 20, Loss: 1.5197362899780273\n",
      "Epoch: 2, Step: 30, Loss: 1.6208233833312988\n",
      "Epoch: 2, Val Loss: 2.056788565251774, Val Acc: 0.3089\n",
      "Epoch: 3, Step: 0, Loss: 1.642743468284607\n",
      "Epoch: 3, Step: 10, Loss: 1.2412389516830444\n",
      "Epoch: 3, Step: 20, Loss: 1.1928529739379883\n",
      "Epoch: 3, Step: 30, Loss: 2.0327889919281006\n",
      "Epoch: 3, Val Loss: 2.1438964034040895, Val Acc: 0.3333\n",
      "Epoch: 4, Step: 0, Loss: 0.8597158789634705\n",
      "Epoch: 4, Step: 10, Loss: 1.0511962175369263\n",
      "Epoch: 4, Step: 20, Loss: 1.4368680715560913\n",
      "Epoch: 4, Step: 30, Loss: 1.6935003995895386\n",
      "Epoch: 4, Val Loss: 1.9338383514660236, Val Acc: 0.3576\n",
      "Epoch: 5, Step: 0, Loss: 0.8254056572914124\n",
      "Epoch: 5, Step: 10, Loss: 0.9587460160255432\n",
      "Epoch: 5, Step: 20, Loss: 0.721584677696228\n",
      "Epoch: 5, Step: 30, Loss: 0.8176942467689514\n",
      "Epoch: 5, Val Loss: 2.3370916687261563, Val Acc: 0.3547\n",
      "Epoch: 6, Step: 0, Loss: 0.43932780623435974\n",
      "Epoch: 6, Step: 10, Loss: 0.5927346348762512\n",
      "Epoch: 6, Step: 20, Loss: 0.6688179969787598\n",
      "Epoch: 6, Step: 30, Loss: 0.45590975880622864\n",
      "Epoch: 6, Val Loss: 2.2831214807284907, Val Acc: 0.3918\n",
      "Epoch: 7, Step: 0, Loss: 0.41630998253822327\n",
      "Epoch: 7, Step: 10, Loss: 0.40150800347328186\n",
      "Epoch: 7, Step: 20, Loss: 0.4046730101108551\n",
      "Epoch: 7, Step: 30, Loss: 0.541063666343689\n",
      "Epoch: 7, Val Loss: 2.467254164119879, Val Acc: 0.3678\n",
      "Epoch: 8, Step: 0, Loss: 0.2671845853328705\n",
      "Epoch: 8, Step: 10, Loss: 0.2997637391090393\n",
      "Epoch: 8, Step: 20, Loss: 0.24786239862442017\n",
      "Epoch: 8, Step: 30, Loss: 0.7299410104751587\n",
      "Epoch: 8, Val Loss: 2.577039572377555, Val Acc: 0.3932\n",
      "Epoch: 9, Step: 0, Loss: 0.39864009618759155\n",
      "Epoch: 9, Step: 10, Loss: 0.2268258035182953\n",
      "Epoch: 9, Step: 20, Loss: 0.6570688486099243\n",
      "Epoch: 9, Step: 30, Loss: 0.2944346070289612\n",
      "Epoch: 9, Val Loss: 2.7783165035156396, Val Acc: 0.3777\n"
     ]
    }
   ],
   "source": [
    "train_cycle(baseline_model)"
   ]
  }
 ],
 "metadata": {
  "kernelspec": {
   "display_name": "snek",
   "language": "python",
   "name": "python3"
  },
  "language_info": {
   "codemirror_mode": {
    "name": "ipython",
    "version": 3
   },
   "file_extension": ".py",
   "mimetype": "text/x-python",
   "name": "python",
   "nbconvert_exporter": "python",
   "pygments_lexer": "ipython3",
   "version": "3.10.13"
  }
 },
 "nbformat": 4,
 "nbformat_minor": 2
}
